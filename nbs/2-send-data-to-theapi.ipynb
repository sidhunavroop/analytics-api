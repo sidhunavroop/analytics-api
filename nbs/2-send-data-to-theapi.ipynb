{
 "cells": [
  {
   "cell_type": "code",
   "execution_count": 3,
   "id": "c8bde43e",
   "metadata": {},
   "outputs": [
    {
     "data": {
      "text/plain": [
       "'http://localhost:8002/api/events'"
      ]
     },
     "execution_count": 3,
     "metadata": {},
     "output_type": "execute_result"
    }
   ],
   "source": [
    "import requests\n",
    "path = \"/api/events\"\n",
    "base_url = \"http://localhost:8002\"\n",
    "endpoint = f\"{base_url}{path}\"\n",
    "endpoint"
   ]
  },
  {
   "cell_type": "code",
   "execution_count": 4,
   "id": "bcb8bff1",
   "metadata": {},
   "outputs": [
    {
     "name": "stdout",
     "output_type": "stream",
     "text": [
      "ok {\"page\":\"/test\",\"description\":\"\",\"id\":1}\n",
      "{'page': '/test', 'description': '', 'id': 1} <class 'dict'> None\n"
     ]
    }
   ],
   "source": [
    "response = requests.post(endpoint, json={\"page\": \"/test\"})\n",
    "print ('ok', response.text)\n",
    "if response.ok:\n",
    "  data = response.json()\n",
    "  print(data, type(data), data.get('items'))"
   ]
  },
  {
   "cell_type": "code",
   "execution_count": 9,
   "id": "7990eb59",
   "metadata": {},
   "outputs": [
    {
     "name": "stdout",
     "output_type": "stream",
     "text": [
      "{'page': '/test', 'description': '', 'id': 4} <class 'dict'> None\n"
     ]
    }
   ],
   "source": [
    "if response.ok:\n",
    "  data = response.json()\n",
    "  print(data, type(data), data.get('items'))"
   ]
  },
  {
   "cell_type": "code",
   "execution_count": 40,
   "id": "62108ea3",
   "metadata": {},
   "outputs": [],
   "source": [
    "import requests\n",
    "detail_path = \"/api/events/12/\"\n",
    "# base_url = \"http://localhost:8002\"\n",
    "detail_endpoint = f\"{base_url}{detail_path}\"\n",
    "detail_endpoint\n",
    "headers = {\n",
    "  \"Content-Type\": \"applicatiob/json\"\n",
    "}"
   ]
  },
  {
   "cell_type": "code",
   "execution_count": 52,
   "id": "57ecc020",
   "metadata": {},
   "outputs": [
    {
     "name": "stdout",
     "output_type": "stream",
     "text": [
      "ok {\"id\":12,\"page\":\"\",\"description\":\"Hello World\"}\n",
      "{'id': 12, 'page': '', 'description': 'Hello World'} <class 'dict'> None\n"
     ]
    }
   ],
   "source": [
    "response = requests.put(detail_endpoint, json={\"description\": \"Hello World\"})\n",
    "print ('ok', response.text)\n",
    "if response.ok:\n",
    "  data = response.json()\n",
    "  print(data, type(data), data.get('items'))"
   ]
  }
 ],
 "metadata": {
  "kernelspec": {
   "display_name": "venv",
   "language": "python",
   "name": "python3"
  },
  "language_info": {
   "codemirror_mode": {
    "name": "ipython",
    "version": 3
   },
   "file_extension": ".py",
   "mimetype": "text/x-python",
   "name": "python",
   "nbconvert_exporter": "python",
   "pygments_lexer": "ipython3",
   "version": "3.13.2"
  }
 },
 "nbformat": 4,
 "nbformat_minor": 5
}
